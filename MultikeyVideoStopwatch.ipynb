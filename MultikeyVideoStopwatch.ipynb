{
 "cells": [
  {
   "cell_type": "markdown",
   "id": "4ffb5396",
   "metadata": {},
   "source": [
    "# IMPORT LIBRARIES AND DEFINE SETTINGS"
   ]
  },
  {
   "cell_type": "code",
   "execution_count": null,
   "id": "ebff1067",
   "metadata": {},
   "outputs": [],
   "source": [
    "#Libraries to import\n",
    "import os\n",
    "import cv2 #OpenCV\n",
    "import numpy as np\n",
    "import pandas as pd\n",
    "import csv\n",
    "\n",
    "#User settings\n",
    "filename = ('C:/Fill/Out/This/Path.avi') #File directory and video name\n",
    "buttons = [\"a\", \"l\"]  # Keys, as many as you want\n",
    "speed_factor = 1 # Multiplier of frame rate\n",
    "start_frame = 9000 # Start the video at a specified frame\n",
    "csv_filename = ('Data.csv') # name the output file\n",
    "csv_filepath = ('C:/Fill/Out/This/Path') # specify folder to save output file\n",
    "csv_filepath = os.path.join(csv_filepath, csv_filename) # concatenates the filepath with the filename. Don't change."
   ]
  },
  {
   "cell_type": "markdown",
   "id": "eafdfa39",
   "metadata": {},
   "source": [
    "# PLAY VIDEO AND SCORE\n",
    "\n",
    "Basic Controls:\n",
    "Pause video = spacebar\n",
    "Close video = q\n",
    "Score exploration = press and hold the key assigned for a given object "
   ]
  },
  {
   "cell_type": "code",
   "execution_count": null,
   "id": "cf5c16d9",
   "metadata": {},
   "outputs": [],
   "source": [
    "# Open the video file and start playing it with user settings\n",
    "video = cv2.VideoCapture(filename)\n",
    "video.set(cv2.CAP_PROP_POS_FRAMES, start_frame)\n",
    "fps = int(video.get(cv2.CAP_PROP_FPS))\n",
    "speed = round((500/fps) / speed_factor)\n",
    "event_log = []\n",
    "\n",
    "# Loop through every frame of the video\n",
    "while video.isOpened():\n",
    "    # Read the current frame\n",
    "    ret, frame = video.read()\n",
    "    if not ret:\n",
    "        break\n",
    "    log_row = []\n",
    "    cv2.imshow('Current Frame', frame)\n",
    "    # Check if the user is pressing and holding any of the keys that we are detecting\n",
    "    button_press = cv2.waitKey(speed)\n",
    "    if button_press == 32:\n",
    "        cv2.waitKey()\n",
    "    for button in buttons:\n",
    "         # Store a 0 in an output array for every frame with no input from a given key\n",
    "        success = 0\n",
    "        # If a given key is pressed, a 1 is stored\n",
    "        if button_press == ord(button):\n",
    "            success = 1\n",
    "\n",
    "        log_row.append(success)\n",
    "    event_log.append(log_row)\n",
    "    if cv2.waitKey(speed) == ord('q'):\n",
    "        break\n",
    "    \n",
    "video.release()\n",
    "\n",
    "# Close the video playback window\n",
    "cv2.destroyAllWindows()\n"
   ]
  },
  {
   "cell_type": "markdown",
   "id": "0bf40425",
   "metadata": {},
   "source": [
    "# EXPORT EXPLORATION TIMESERIES DATA"
   ]
  },
  {
   "cell_type": "code",
   "execution_count": null,
   "id": "4853de59",
   "metadata": {},
   "outputs": [],
   "source": [
    "# Save the array of input events as a .csv file. Data from each key are stored in columns from left to right in the same order\n",
    "# as the keys are listed in the 'buttons' variable\n",
    "with open(csv_filepath, \"w\", newline=\"\") as csv_file:\n",
    "    csv_writer = csv.writer(csv_file, dialect='excel')\n",
    "    for row in event_log:\n",
    "        csv_writer.writerow(row)"
   ]
  },
  {
   "cell_type": "markdown",
   "id": "f66118f2",
   "metadata": {},
   "source": [
    "# DISPLAY SUMMARY DATA"
   ]
  },
  {
   "cell_type": "code",
   "execution_count": null,
   "id": "7352d248",
   "metadata": {},
   "outputs": [],
   "source": [
    "#Calculates total times (s) for each key by summing all frames with key input and dividing by video frame rate\n",
    "data = pd.DataFrame(event_log, columns = buttons)\n",
    "key_totals = data.sum(axis=0)\n",
    "key_times = pd.DataFrame(key_totals/fps)\n",
    "print(key_times)"
   ]
  }
 ],
 "metadata": {
  "kernelspec": {
   "display_name": "Python 3 (ipykernel)",
   "language": "python",
   "name": "python3"
  },
  "language_info": {
   "codemirror_mode": {
    "name": "ipython",
    "version": 3
   },
   "file_extension": ".py",
   "mimetype": "text/x-python",
   "name": "python",
   "nbconvert_exporter": "python",
   "pygments_lexer": "ipython3",
   "version": "3.9.1"
  }
 },
 "nbformat": 4,
 "nbformat_minor": 5
}
